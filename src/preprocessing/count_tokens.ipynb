{
 "cells": [
  {
   "cell_type": "code",
   "execution_count": null,
   "metadata": {},
   "outputs": [],
   "source": [
    "import psycopg2\n",
    "\n",
    "DATABASE_CONFIG = {\n",
    "    \"dbname\": \"tensorflow_data\",\n",
    "    \"user\": \"postgres\",\n",
    "    \"password\": \"\",\n",
    "    \"host\": \"\",\n",
    "    \"port\": 5432,\n",
    "}\n",
    "\n",
    "conn = psycopg2.connect(**DATABASE_CONFIG)\n",
    "cursor = conn.cursor()"
   ]
  },
  {
   "cell_type": "code",
   "execution_count": 2,
   "metadata": {},
   "outputs": [
    {
     "data": {
      "text/plain": [
       "305"
      ]
     },
     "execution_count": 2,
     "metadata": {},
     "output_type": "execute_result"
    }
   ],
   "source": [
    "cursor.execute(\n",
    "    \"\"\"\n",
    "    SELECT \n",
    "        issue_id,\n",
    "        body\n",
    "    FROM \n",
    "        issues_from_release\n",
    "    WHERE \n",
    "        release_number LIKE '%2.12%';\n",
    "    \"\"\"\n",
    ")\n",
    "issues = cursor.fetchall()\n",
    "len(issues)"
   ]
  },
  {
   "cell_type": "code",
   "execution_count": 3,
   "metadata": {},
   "outputs": [],
   "source": [
    "import spacy\n",
    "\n",
    "# Carrega o modelo em inglês (certifique-se de instalá-lo com: python -m spacy download en_core_web_sm)\n",
    "nlp = spacy.load(\"en_core_web_sm\")"
   ]
  },
  {
   "cell_type": "code",
   "execution_count": null,
   "metadata": {},
   "outputs": [
    {
     "name": "stdout",
     "output_type": "stream",
     "text": [
      "Number of issues: 305\n",
      "Number of comments: 2442\n",
      "Number of tokens: 182134\n"
     ]
    }
   ],
   "source": [
    "num_issues = len(issues)\n",
    "num_tokens = 0\n",
    "num_comments = 0\n",
    "for issue in issues:\n",
    "    issue_id, body = issue\n",
    "    \n",
    "    # Processa com o tokenizer\n",
    "    try:\n",
    "        doc_issue = nlp(body)\n",
    "        tokens_issue = [token.text for token in doc_issue if not token.is_space and not token.is_punct]\n",
    "        num_tokens += len(tokens_issue)\n",
    "    except:\n",
    "        pass\n",
    "\n",
    "    cursor.execute(\n",
    "        \"\"\"\n",
    "        SELECT \n",
    "            comment_id,\n",
    "            body\n",
    "        FROM \n",
    "            issue_comments_from_release\n",
    "        WHERE \n",
    "            issue_id = %s;\n",
    "        \"\"\", (issue_id,)\n",
    "    )   \n",
    "    comments = cursor.fetchall()\n",
    "\n",
    "    num_comments += len(comments)\n",
    "\n",
    "    for comment in comments:\n",
    "        comment_id, comment_body = comment\n",
    "        \n",
    "        # Processa o texto com o modelo de tokenizacao\n",
    "        doc = nlp(comment_body)\n",
    "        # Extrai os tokens ignorando espaços e pontuação\n",
    "        tokens = [token.text for token in doc if not token.is_space and not token.is_punct]\n",
    "\n",
    "        num_tokens += len(tokens)\n",
    "\n",
    "print(f\"Number of issues: {num_issues}\")\n",
    "print(f\"Number of comments: {num_comments}\")\n",
    "print(f\"Number of tokens: {num_tokens}\")"
   ]
  },
  {
   "cell_type": "code",
   "execution_count": 17,
   "metadata": {},
   "outputs": [],
   "source": [
    "cursor.close()\n",
    "conn.close()"
   ]
  }
 ],
 "metadata": {
  "kernelspec": {
   "display_name": "venv",
   "language": "python",
   "name": "python3"
  },
  "language_info": {
   "codemirror_mode": {
    "name": "ipython",
    "version": 3
   },
   "file_extension": ".py",
   "mimetype": "text/x-python",
   "name": "python",
   "nbconvert_exporter": "python",
   "pygments_lexer": "ipython3",
   "version": "3.12.7"
  }
 },
 "nbformat": 4,
 "nbformat_minor": 2
}
