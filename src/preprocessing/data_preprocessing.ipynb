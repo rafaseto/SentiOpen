{
 "cells": [
  {
   "cell_type": "code",
   "execution_count": 1,
   "metadata": {},
   "outputs": [],
   "source": [
    "import re\n",
    "import psycopg2\n",
    "import emoji"
   ]
  },
  {
   "cell_type": "code",
   "execution_count": 2,
   "metadata": {},
   "outputs": [],
   "source": [
    "def process_images(text):\n",
    "    text = re.sub(r'!\\[Image\\]\\S*', '<IMAGE>', text)\n",
    "    return text\n",
    "\n",
    "def process_urls(text):\n",
    "    text = re.sub(r'http\\S+|www\\.\\S+', '<URL>', text)\n",
    "    return text\n",
    "\n",
    "def process_code_blocks(text):\n",
    "    text = re.sub(r'```(.*?)```', '<CODE_BLOCK>', text, flags=re.DOTALL)\n",
    "    return text\n",
    "\n",
    "def process_reply(text):\n",
    "    text = re.sub(r'(>.)(.*)', r'<user is replying to: \\2 >', text)\n",
    "    return text\n",
    "\n",
    "def process_emojis(text):\n",
    "    text = emoji.demojize(text, delimiters=(\"<emoji_\", \">\"))\n",
    "    return text\n",
    "\n",
    "def create_pipeline(functions):\n",
    "    def pipeline(text):\n",
    "        for func in functions:\n",
    "            text = func(text)\n",
    "        return text\n",
    "    return pipeline\n"
   ]
  },
  {
   "cell_type": "code",
   "execution_count": null,
   "metadata": {},
   "outputs": [],
   "source": [
    "pipeline_functions = [process_code_blocks, process_images, process_urls, process_emojis]\n",
    "pipeline = create_pipeline(pipeline_functions)"
   ]
  },
  {
   "cell_type": "code",
   "execution_count": null,
   "metadata": {},
   "outputs": [],
   "source": [
    "DATABASE_CONFIG = {\n",
    "    \"dbname\": \"tensorflow_data\",\n",
    "    \"user\": \"postgres\",\n",
    "    \"password\": \"\",\n",
    "    \"host\": \"\",\n",
    "    \"port\": 5432,\n",
    "}\n",
    "\n",
    "conn = psycopg2.connect(**DATABASE_CONFIG)\n",
    "cursor = conn.cursor()"
   ]
  },
  {
   "cell_type": "code",
   "execution_count": 5,
   "metadata": {},
   "outputs": [
    {
     "data": {
      "text/plain": [
       "78"
      ]
     },
     "execution_count": 5,
     "metadata": {},
     "output_type": "execute_result"
    }
   ],
   "source": [
    "cursor.execute(\n",
    "    \"\"\"\n",
    "    SELECT \n",
    "        issue_id,\n",
    "        body\n",
    "    FROM \n",
    "        issues_from_release\n",
    "    WHERE\n",
    "        release_number LIKE '%2.18%'\n",
    "    \"\"\"\n",
    ")\n",
    "issues = cursor.fetchall()\n",
    "len(issues)"
   ]
  },
  {
   "cell_type": "code",
   "execution_count": null,
   "metadata": {},
   "outputs": [],
   "source": [
    "for issue in issues:\n",
    "    issue_id, issue_body = issue\n",
    "    \n",
    "    # Process the body of the issue\n",
    "    issue_body = pipeline(issue_body)\n",
    "    \n",
    "    # Save the processed issue body \n",
    "    cursor.execute(\n",
    "        \"UPDATE issues_from_release SET body = %s WHERE issue_id = %s\", (issue_body, issue_id)\n",
    "    )\n",
    "\n",
    "    # Getting the comments of the current issue\n",
    "    cursor.execute(\n",
    "        \"\"\"\n",
    "        SELECT \n",
    "            comment_id,\n",
    "            body\n",
    "        FROM \n",
    "            issue_comments_from_release\n",
    "        WHERE \n",
    "            issue_id = %s;\n",
    "        \"\"\", (issue_id,)\n",
    "    )\n",
    "    comments = cursor.fetchall()\n",
    "    print(f\"Found {len(comments)} comments for issue {issue_id}.\")\n",
    "\n",
    "    # Processing the body of each comment\n",
    "    for comment in comments:\n",
    "        comment_id, comment_body = comment\n",
    "\n",
    "        # Process de body of the comment\n",
    "        comment_body = pipeline(comment_body)\n",
    "\n",
    "        # Save the processed comment body\n",
    "        cursor.execute(\n",
    "            \"UPDATE issue_comments_from_release SET body = %s WHERE comment_id = %s\",\n",
    "            (comment_body, comment_id,)\n",
    "        )\n",
    "\n",
    "conn.commit()  "
   ]
  }
 ],
 "metadata": {
  "kernelspec": {
   "display_name": "venv",
   "language": "python",
   "name": "python3"
  },
  "language_info": {
   "codemirror_mode": {
    "name": "ipython",
    "version": 3
   },
   "file_extension": ".py",
   "mimetype": "text/x-python",
   "name": "python",
   "nbconvert_exporter": "python",
   "pygments_lexer": "ipython3",
   "version": "3.12.7"
  }
 },
 "nbformat": 4,
 "nbformat_minor": 2
}
