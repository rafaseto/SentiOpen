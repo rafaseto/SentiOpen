{
 "cells": [
  {
   "cell_type": "code",
   "execution_count": null,
   "metadata": {},
   "outputs": [],
   "source": [
    "import re\n",
    "import psycopg2"
   ]
  },
  {
   "cell_type": "code",
   "execution_count": null,
   "metadata": {},
   "outputs": [],
   "source": [
    "def remove_images(text):\n",
    "    text = re.sub(r'!\\[Image\\]\\S*', '<user sent a image>', text)\n",
    "    return text"
   ]
  },
  {
   "cell_type": "code",
   "execution_count": null,
   "metadata": {},
   "outputs": [],
   "source": [
    "def remove_urls(text):\n",
    "    text = re.sub(r'http\\S+|www\\.\\S+', '<user sent a url>', text)\n",
    "    return text"
   ]
  },
  {
   "cell_type": "code",
   "execution_count": null,
   "metadata": {},
   "outputs": [],
   "source": [
    "def remove_code_blocks(text):\n",
    "    text = re.sub(r'```(.*?)```', '<user sent a code block>', text, flags=re.DOTALL)\n",
    "    return text"
   ]
  },
  {
   "cell_type": "code",
   "execution_count": null,
   "metadata": {},
   "outputs": [],
   "source": [
    "def process_reply(text):\n",
    "    text = re.sub(r'(>.)(.*)', r'<user is replying to: \\2 >', text)\n",
    "    return text"
   ]
  },
  {
   "cell_type": "code",
   "execution_count": null,
   "metadata": {},
   "outputs": [],
   "source": [
    "repo_owner = \"microsoft\"\n",
    "repo_name = \"vscode\"\n",
    "\n",
    "DATABASE_CONFIG = {\n",
    "    \"dbname\": \"vscode_data\",\n",
    "    \"user\": \"postgres\",\n",
    "    \"password\": \"\",\n",
    "    \"host\": \"\",\n",
    "    \"port\": 5432,\n",
    "}"
   ]
  },
  {
   "cell_type": "code",
   "execution_count": null,
   "metadata": {},
   "outputs": [],
   "source": [
    "conn = psycopg2.connect(**DATABASE_CONFIG)\n",
    "cursor = conn.cursor()"
   ]
  },
  {
   "cell_type": "code",
   "execution_count": null,
   "metadata": {},
   "outputs": [],
   "source": [
    "cursor.execute(\n",
    "    \"\"\"\n",
    "    SELECT \n",
    "        comment_id,\n",
    "        created_at,\n",
    "        body\n",
    "    FROM \n",
    "        issue_comments_from_release\n",
    "    \"\"\"\n",
    ")\n",
    "comments = cursor.fetchall()"
   ]
  },
  {
   "cell_type": "code",
   "execution_count": null,
   "metadata": {},
   "outputs": [],
   "source": [
    "for comment in comments:\n",
    "    comment_id, created_at, body = comment\n",
    "    body = remove_code_blocks(body)\n",
    "    body = remove_images(body)\n",
    "    body = remove_urls(body)\n",
    "    body = process_reply(body)\n",
    "    print(body)\n",
    "    cursor.execute(\n",
    "        \"UPDATE issue_comments_from_release SET body = %s WHERE comment_id = %s\", (body, comment_id)\n",
    "    )\n",
    "\n",
    "conn.commit()  "
   ]
  }
 ],
 "metadata": {
  "kernelspec": {
   "display_name": "venv",
   "language": "python",
   "name": "python3"
  },
  "language_info": {
   "codemirror_mode": {
    "name": "ipython",
    "version": 3
   },
   "file_extension": ".py",
   "mimetype": "text/x-python",
   "name": "python",
   "nbconvert_exporter": "python",
   "pygments_lexer": "ipython3",
   "version": "3.12.7"
  }
 },
 "nbformat": 4,
 "nbformat_minor": 2
}
